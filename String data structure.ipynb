{
 "cells": [
  {
   "cell_type": "markdown",
   "metadata": {},
   "source": [
    "STRING:\n",
    "    \n",
    "once we create a string object,we cannot modify the content because it is immutable object.\n",
    "\n",
    "even if we modify, instead of changing the content in original object, it creates new object\n"
   ]
  },
  {
   "cell_type": "markdown",
   "metadata": {},
   "source": [
    "## Removing of spaces from the String"
   ]
  },
  {
   "cell_type": "markdown",
   "metadata": {},
   "source": [
    "strip(): to remove spaces from both sides of the string but not middle space.\n",
    "    \n",
    "rstrip():to remove space at rightside of string.\n",
    "    \n",
    "lstrip():to remove space at left side of string.\n",
    "    \n",
    "NOTE:strip is mainly used in MAILS\n",
    "\n",
    "syntax: stringname.strip()/lstrip()/rstrip():\n",
    "        "
   ]
  },
  {
   "cell_type": "code",
   "execution_count": null,
   "metadata": {},
   "outputs": [],
   "source": [
    "s=input(\"enter string:\")\n",
    "print(s)\n",
    "s1=s.strip()\n",
    "print(s1)"
   ]
  },
  {
   "cell_type": "code",
   "execution_count": null,
   "metadata": {},
   "outputs": [],
   "source": [
    "s=input(\"enter string:\")\n",
    "print(s)\n",
    "if s==\"divyasri\":\n",
    "    print(\"spaces removed\")\n",
    "else:\n",
    "    print(\"pls remove the spaces\")\n",
    "    s1=s.strip()\n",
    "    if s1==\"divyasri\":\n",
    "        print(\"spaces removed by strip function\")\n",
    "    \n",
    "    "
   ]
  },
  {
   "cell_type": "code",
   "execution_count": null,
   "metadata": {},
   "outputs": [],
   "source": [
    "s=input(\"enter string:\")\n",
    "print(s)\n",
    "if s==\"divyasri\":\n",
    "    print(\"spaces removed\")\n",
    "else:\n",
    "    print(\"pls remove the spaces\")\n",
    "    s1=s.rstrip()\n",
    "    if s1==\"divyasri\":\n",
    "        print(\"spaces removed by strip function\")\n",
    "    \n",
    "    "
   ]
  },
  {
   "cell_type": "code",
   "execution_count": null,
   "metadata": {},
   "outputs": [],
   "source": [
    "s=input(\"enter string:\")\n",
    "print(s)\n",
    "if s==\"divyasri\":\n",
    "    print(\"spaces removed\")\n",
    "else:\n",
    "    print(\"pls remove the spaces\")\n",
    "    s1=s.lstrip()\n",
    "    if s1==\"divyasri\":\n",
    "        print(\"spaces removed by strip function\")\n",
    "    \n",
    "    "
   ]
  },
  {
   "cell_type": "markdown",
   "metadata": {},
   "source": [
    "## finding substring"
   ]
  },
  {
   "cell_type": "markdown",
   "metadata": {},
   "source": [
    "for forwarding direction:\n",
    "    \n",
    "    1.find()\n",
    "    \n",
    "    2.index()\n",
    "    \n",
    "for backward direction:\n",
    "    \n",
    "    1.rfind()\n",
    "    \n",
    "    2.rindex()\n",
    "    "
   ]
  },
  {
   "cell_type": "markdown",
   "metadata": {},
   "source": [
    "### 1.find():"
   ]
  },
  {
   "cell_type": "code",
   "execution_count": null,
   "metadata": {},
   "outputs": [],
   "source": [
    "returns index of first occurence of given substring in main string. if it is not found it returns(-1)\n",
    "\n",
    "       syntax: s.find(substring)\n",
    "       syntax for boundaries without searching the whole string: s.find(substring,startindex,endindex)\n",
    "       "
   ]
  },
  {
   "cell_type": "code",
   "execution_count": 1,
   "metadata": {},
   "outputs": [
    {
     "name": "stdout",
     "output_type": "stream",
     "text": [
      "0\n"
     ]
    }
   ],
   "source": [
    "s=\"Hello gud mrng, hello gud evng\"\n",
    "print(s.find(\"Hello\"))"
   ]
  },
  {
   "cell_type": "code",
   "execution_count": 2,
   "metadata": {},
   "outputs": [
    {
     "name": "stdout",
     "output_type": "stream",
     "text": [
      "6\n",
      "1\n",
      "12\n",
      "-1\n",
      "-1\n"
     ]
    }
   ],
   "source": [
    "s=\"Hello hello gud mrng, hello gud evng\"\n",
    "print(s.find(\"hello\"))\n",
    "print(s.find('e'))\n",
    "print(s.find(\"gud\"))\n",
    "print(s.find(\"divya\"))\n",
    "print(s.find('x'))\n"
   ]
  },
  {
   "cell_type": "code",
   "execution_count": 3,
   "metadata": {},
   "outputs": [
    {
     "name": "stdout",
     "output_type": "stream",
     "text": [
      "-1\n",
      "6\n"
     ]
    }
   ],
   "source": [
    "s=\"Hello Hai How are you\"\n",
    "print(s.find(\"Hello\",2,15))\n",
    "print(s.find(\"Ha\",2,14))"
   ]
  },
  {
   "cell_type": "markdown",
   "metadata": {},
   "source": [
    "## 2.index():"
   ]
  },
  {
   "cell_type": "markdown",
   "metadata": {},
   "source": [
    "index is same as find() except that if the substring is not found it will give value error. To deal with value errors we use exception handling concept."
   ]
  },
  {
   "cell_type": "code",
   "execution_count": 4,
   "metadata": {},
   "outputs": [
    {
     "name": "stdout",
     "output_type": "stream",
     "text": [
      "0\n"
     ]
    },
    {
     "ename": "ValueError",
     "evalue": "substring not found",
     "output_type": "error",
     "traceback": [
      "\u001b[1;31m---------------------------------------------------------------------------\u001b[0m",
      "\u001b[1;31mValueError\u001b[0m                                Traceback (most recent call last)",
      "\u001b[1;32m<ipython-input-4-25543b858992>\u001b[0m in \u001b[0;36m<module>\u001b[1;34m\u001b[0m\n\u001b[0;32m      1\u001b[0m \u001b[0ms\u001b[0m\u001b[1;33m=\u001b[0m\u001b[1;34m\"Hello Divyasri Maddineni\"\u001b[0m\u001b[1;33m\u001b[0m\u001b[1;33m\u001b[0m\u001b[0m\n\u001b[0;32m      2\u001b[0m \u001b[0mprint\u001b[0m\u001b[1;33m(\u001b[0m\u001b[0ms\u001b[0m\u001b[1;33m.\u001b[0m\u001b[0mindex\u001b[0m\u001b[1;33m(\u001b[0m\u001b[1;34m\"Hello\"\u001b[0m\u001b[1;33m)\u001b[0m\u001b[1;33m)\u001b[0m\u001b[1;33m\u001b[0m\u001b[1;33m\u001b[0m\u001b[0m\n\u001b[1;32m----> 3\u001b[1;33m \u001b[0mprint\u001b[0m\u001b[1;33m(\u001b[0m\u001b[0ms\u001b[0m\u001b[1;33m.\u001b[0m\u001b[0mindex\u001b[0m\u001b[1;33m(\u001b[0m\u001b[1;34m\"divyasri\"\u001b[0m\u001b[1;33m)\u001b[0m\u001b[1;33m)\u001b[0m\u001b[1;33m\u001b[0m\u001b[1;33m\u001b[0m\u001b[0m\n\u001b[0m",
      "\u001b[1;31mValueError\u001b[0m: substring not found"
     ]
    }
   ],
   "source": [
    "s=\"Hello Divyasri Maddineni\"\n",
    "print(s.index(\"Hello\"))\n",
    "print(s.index(\"divyasri\"))"
   ]
  },
  {
   "cell_type": "code",
   "execution_count": 5,
   "metadata": {},
   "outputs": [
    {
     "name": "stdout",
     "output_type": "stream",
     "text": [
      "substring is not found\n"
     ]
    }
   ],
   "source": [
    "#To deal with value errors we use exception handling concept.\n",
    "s=\"Hello Divyasri Maddineni\"\n",
    "try:\n",
    "    print(s.index(\"sravya\"))\n",
    "except ValueError:\n",
    "    print(\"substring is not found\")"
   ]
  },
  {
   "cell_type": "markdown",
   "metadata": {},
   "source": [
    "## counting substring in mainstring"
   ]
  },
  {
   "cell_type": "markdown",
   "metadata": {},
   "source": [
    "we use count() to count the given string or character. if a string or character is not found then it returns(0)"
   ]
  },
  {
   "cell_type": "code",
   "execution_count": 3,
   "metadata": {},
   "outputs": [
    {
     "name": "stdout",
     "output_type": "stream",
     "text": [
      "4\n",
      "3\n",
      "0\n",
      "0\n",
      "2\n"
     ]
    }
   ],
   "source": [
    "s=\"Hello good morning, Hello, Hello How are you, you\"\n",
    "print(s.count(\"H\"))\n",
    "print(s.count(\"Hello\"))\n",
    "print(s.count(\"hello\"))\n",
    "print(s.count(\"divya\"))\n",
    "print(s.count(\"Hello\",10,40))"
   ]
  },
  {
   "cell_type": "markdown",
   "metadata": {},
   "source": [
    "## replacing string with another string"
   ]
  },
  {
   "cell_type": "markdown",
   "metadata": {},
   "source": [
    "we use replace()\n",
    "\n",
    "syntax:s.replace(oldstring,newstring)\n",
    "\n",
    "once string/character gets replaced then old string/char remains same and it doesn't get modified "
   ]
  },
  {
   "cell_type": "code",
   "execution_count": 5,
   "metadata": {},
   "outputs": [
    {
     "name": "stdout",
     "output_type": "stream",
     "text": [
      "divya good morning, hello, divya, How are you\n",
      "Hello good morning, hello, Hello, How are you\n",
      "1500899004944\n",
      "1500899005904\n"
     ]
    }
   ],
   "source": [
    "s=\"Hello good morning, hello, Hello, How are you\"\n",
    "s1=s.replace(\"Hello\",\"divya\")\n",
    "print(s1)\n",
    "print(s)\n",
    "print(id(s1))\n",
    "print(id(s))"
   ]
  },
  {
   "cell_type": "code",
   "execution_count": 6,
   "metadata": {},
   "outputs": [
    {
     "name": "stdout",
     "output_type": "stream",
     "text": [
      "Hello good morning, hello, Hello, How are you\n",
      "Hello good morning, hello, Hello, How are you\n",
      "1500899005424\n",
      "1500899005424\n"
     ]
    }
   ],
   "source": [
    "s=\"Hello good morning, hello, Hello, How are you\"\n",
    "s1=s.replace(\"#@$$$$$\",\"divya\")\n",
    "print(s1)\n",
    "print(s)\n",
    "print(id(s1))\n",
    "print(id(s))"
   ]
  },
  {
   "cell_type": "markdown",
   "metadata": {},
   "source": [
    "## splitting of the strings"
   ]
  },
  {
   "cell_type": "markdown",
   "metadata": {},
   "source": [
    "we use split() "
   ]
  },
  {
   "cell_type": "code",
   "execution_count": 7,
   "metadata": {},
   "outputs": [
    {
     "name": "stdout",
     "output_type": "stream",
     "text": [
      "['Hello', 'DivyaSri', 'Maddineni']\n"
     ]
    }
   ],
   "source": [
    "s=\"Hello DivyaSri Maddineni\"\n",
    "l=s.split()\n",
    "print(l)"
   ]
  },
  {
   "cell_type": "code",
   "execution_count": 14,
   "metadata": {},
   "outputs": [
    {
     "name": "stdout",
     "output_type": "stream",
     "text": [
      "['27', '04', '2021']\n"
     ]
    }
   ],
   "source": [
    "date=\"27-04-2021\"\n",
    "l1=date.split('-') # \"-\"\n",
    "\n",
    "print(l1)"
   ]
  },
  {
   "cell_type": "code",
   "execution_count": 13,
   "metadata": {},
   "outputs": [
    {
     "name": "stdout",
     "output_type": "stream",
     "text": [
      "['27-04-2021']\n"
     ]
    }
   ],
   "source": [
    "date=\"27-04-2021\"\n",
    "l1=date.split(\"/\")\n",
    "print(l1)\n"
   ]
  },
  {
   "cell_type": "code",
   "execution_count": 15,
   "metadata": {},
   "outputs": [
    {
     "name": "stdout",
     "output_type": "stream",
     "text": [
      "['', '7-04-', '0', '1']\n"
     ]
    }
   ],
   "source": [
    "date=\"27-04-2021\"\n",
    "l1=date.split(\"2\")\n",
    "print(l1)\n"
   ]
  },
  {
   "cell_type": "markdown",
   "metadata": {},
   "source": [
    "## joining of strings:"
   ]
  },
  {
   "cell_type": "markdown",
   "metadata": {},
   "source": [
    "syntax: \n",
    "    \n",
    "    s=seperator.join(group of strings)\n",
    "    \n",
    "    "
   ]
  },
  {
   "cell_type": "code",
   "execution_count": 11,
   "metadata": {},
   "outputs": [
    {
     "name": "stdout",
     "output_type": "stream",
     "text": [
      "divya:sri\n"
     ]
    }
   ],
   "source": [
    "l=[\"divya\",\"sri\"]\n",
    "s=':'.join(l)\n",
    "print(s)"
   ]
  },
  {
   "cell_type": "code",
   "execution_count": 18,
   "metadata": {},
   "outputs": [
    {
     "name": "stdout",
     "output_type": "stream",
     "text": [
      "divya sri\n"
     ]
    }
   ],
   "source": [
    "l=[\"divya\",\"sri\"]\n",
    "s=' '.join(l)\n",
    "print(s)"
   ]
  },
  {
   "cell_type": "code",
   "execution_count": 16,
   "metadata": {},
   "outputs": [
    {
     "ename": "TypeError",
     "evalue": "join() takes exactly one argument (2 given)",
     "output_type": "error",
     "traceback": [
      "\u001b[1;31m---------------------------------------------------------------------------\u001b[0m",
      "\u001b[1;31mTypeError\u001b[0m                                 Traceback (most recent call last)",
      "\u001b[1;32m<ipython-input-16-abeabd45907e>\u001b[0m in \u001b[0;36m<module>\u001b[1;34m\u001b[0m\n\u001b[1;32m----> 1\u001b[1;33m \u001b[0ms\u001b[0m\u001b[1;33m=\u001b[0m\u001b[1;34m':'\u001b[0m\u001b[1;33m.\u001b[0m\u001b[0mjoin\u001b[0m\u001b[1;33m(\u001b[0m\u001b[1;34m\"divya\"\u001b[0m\u001b[1;33m,\u001b[0m\u001b[1;34m\"sri\"\u001b[0m\u001b[1;33m)\u001b[0m\u001b[1;33m\u001b[0m\u001b[1;33m\u001b[0m\u001b[0m\n\u001b[0m\u001b[0;32m      2\u001b[0m \u001b[0mprint\u001b[0m\u001b[1;33m(\u001b[0m\u001b[0ms\u001b[0m\u001b[1;33m)\u001b[0m\u001b[1;33m\u001b[0m\u001b[1;33m\u001b[0m\u001b[0m\n",
      "\u001b[1;31mTypeError\u001b[0m: join() takes exactly one argument (2 given)"
     ]
    }
   ],
   "source": [
    "\n",
    "s=':'.join(\"divya\",\"sri\")\n",
    "print(s)"
   ]
  },
  {
   "cell_type": "code",
   "execution_count": null,
   "metadata": {},
   "outputs": [],
   "source": []
  }
 ],
 "metadata": {
  "kernelspec": {
   "display_name": "Python 3",
   "language": "python",
   "name": "python3"
  },
  "language_info": {
   "codemirror_mode": {
    "name": "ipython",
    "version": 3
   },
   "file_extension": ".py",
   "mimetype": "text/x-python",
   "name": "python",
   "nbconvert_exporter": "python",
   "pygments_lexer": "ipython3",
   "version": "3.8.5"
  }
 },
 "nbformat": 4,
 "nbformat_minor": 4
}
